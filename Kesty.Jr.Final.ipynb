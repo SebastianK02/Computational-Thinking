{
  "nbformat": 4,
  "nbformat_minor": 0,
  "metadata": {
    "colab": {
      "name": "Kesty.Jr.Final.ipynb",
      "provenance": [],
      "authorship_tag": "ABX9TyNjesagpSqa12MjkF3F76my",
      "include_colab_link": true
    },
    "kernelspec": {
      "name": "python3",
      "display_name": "Python 3"
    }
  },
  "cells": [
    {
      "cell_type": "markdown",
      "metadata": {
        "id": "view-in-github",
        "colab_type": "text"
      },
      "source": [
        "<a href=\"https://colab.research.google.com/github/SebastianK02/Computational-Thinking/blob/master/Kesty.Jr.Final.ipynb\" target=\"_parent\"><img src=\"https://colab.research.google.com/assets/colab-badge.svg\" alt=\"Open In Colab\"/></a>"
      ]
    },
    {
      "cell_type": "code",
      "metadata": {
        "id": "BkrdNMkeqTeQ",
        "colab": {
          "base_uri": "https://localhost:8080/"
        },
        "outputId": "98edf883-166f-4879-a60b-1088d4b8e53f"
      },
      "source": [
        "print(\"Hi welcome to shu amusement park how can i help you?\")\n",
        "print(\"I need to buy tickets.\")\n",
        "list1 = [\"Adults: $150\",\"Students: $120\",\"Childern: $80\",\"Kids: $40\"]\n",
        "list2 = [\"Coke: $50\",\"Sprite: $50\",\"Hot Dog: $45\"]\n",
        "print(\"Okay so here is our list or all the ticket price and the discount\",list1)\n",
        "print(\"Just in case you need something to eat or to drink\", list2)\n",
        "adult = int(input(\"I want adult tickets for \"))\n",
        "student = int(input(\"I want student tickets for \"))\n",
        "children = int(input(\"I want children tickets for \"))\n",
        "kids = int(input(\"I want kids tickets for \"))\n",
        "print(\"You need anything else?\")\n",
        "coke = int(input(\"I want \")) \n",
        "print(\" cups of coke.\")\n",
        "sprite = int(input(\"I want \"))\n",
        "print(\" cups of sprite.\")\n",
        "hotdog = int(input(\"I want \"))\n",
        "print(\" hot dogs.\")\n",
        "import math\n",
        "total = adult*150 + student*120 + children*80 + kids*40 + coke*50 + sprite*50 + hotdog*45\n",
        "if (total>400) and (total<=650):\n",
        "  print(\"Okay so your total will be \", math.ceil(total*0.9*10)/10.0, \".\")\n",
        "elif (total>650) and (total<=900):\n",
        "  print(\"Okay so your total amount will be \", math.ceil(total*0.85*10)/10.0, \".\")\n",
        "elif (total>900) and (total<=1150):\n",
        "  print(\"Okay so your total amount will be \", (total*0.8*10)/10.0, \".\")\n",
        "elif total>1150:\n",
        "  print(\"Okay so your total amount will  be \", math.ceil(total*0.75*10)/10.0, \".\")\n",
        "else:\n",
        "  print(\"Okay so your total amount will be \", total, \".\")\n",
        "print(\"Card or cash?\")\n",
        "print(\"Card, please.\")\n",
        "print(\"Have a nice day!\")\n",
        "print(\"Yeah you too.\")"
      ],
      "execution_count": 56,
      "outputs": [
        {
          "output_type": "stream",
          "text": [
            "Hi welcome to shu amusement park how can i help you?\n",
            "I need to buy tickets.\n",
            "Okay so here is our list or all the ticket price and the discount ['Adults: $150', 'Students: $120', 'Childern: $80', 'Kids: $40']\n",
            "Just in case you need something to eat or to drink ['Coke: $50', 'Sprite: $50', 'Hot Dog: $45']\n",
            "I want adult tickets for 2\n",
            "I want student tickets for 1\n",
            "I want children tickets for 1\n",
            "I want kids tickets for 2\n",
            "You need anything else?\n",
            "I want 1\n",
            " cups of coke.\n",
            "I want 1\n",
            " cups of sprite.\n",
            "I want 1\n",
            " hot dogs.\n",
            "Okay so your total amount will be  616.3 .\n",
            "Card or cash?\n",
            "Card, please.\n",
            "Have a nice day!\n",
            "Yeah you too.\n"
          ],
          "name": "stdout"
        }
      ]
    },
    {
      "cell_type": "code",
      "metadata": {
        "id": "FzGBAiauJVqB"
      },
      "source": [
        ""
      ],
      "execution_count": null,
      "outputs": []
    }
  ]
}