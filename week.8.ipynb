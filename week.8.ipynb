{
  "nbformat": 4,
  "nbformat_minor": 0,
  "metadata": {
    "colab": {
      "name": "Untitled3.ipynb",
      "provenance": [],
      "authorship_tag": "ABX9TyOitm+jV2w5mWxvaLEbz7Zf",
      "include_colab_link": true
    },
    "kernelspec": {
      "name": "python3",
      "display_name": "Python 3"
    }
  },
  "cells": [
    {
      "cell_type": "markdown",
      "metadata": {
        "id": "view-in-github",
        "colab_type": "text"
      },
      "source": [
        "<a href=\"https://colab.research.google.com/github/SebastianK02/Computational-Thinking/blob/master/week.8.ipynb\" target=\"_parent\"><img src=\"https://colab.research.google.com/assets/colab-badge.svg\" alt=\"Open In Colab\"/></a>"
      ]
    },
    {
      "cell_type": "code",
      "metadata": {
        "id": "uQCWJQoUb0NW",
        "outputId": "9f8f7e4a-d907-465f-9199-b1341415673a",
        "colab": {
          "base_uri": "https://localhost:8080/"
        }
      },
      "source": [
        "print(\"i aint never seen two pretty best friends one of them must be ugly\")"
      ],
      "execution_count": null,
      "outputs": [
        {
          "output_type": "stream",
          "text": [
            "i aint never seen two pretty best friends one of them must be ugly\n"
          ],
          "name": "stdout"
        }
      ]
    },
    {
      "cell_type": "code",
      "metadata": {
        "id": "q3x8wrXjez0h",
        "outputId": "d4d7c7b6-66c7-4323-c7ae-82abd08fc16d",
        "colab": {
          "base_uri": "https://localhost:8080/"
        }
      },
      "source": [
        "cloth = int(input('please enter the quantity of the clothes'))\n",
        "trousers = int(input('please enter the quantity of the trousers'))\n",
        "vest = int(input('please enter the quantity of the vest'))\n",
        "\n",
        "total = cloth*300 + trousers*350 + vest*400 \n",
        "print('the total price of the clothes', total )"
      ],
      "execution_count": 7,
      "outputs": [
        {
          "output_type": "stream",
          "text": [
            "please enter the quantity of the clothes2\n",
            "please enter the quantity of the trousers4\n",
            "please enter the quantity of the vest5\n",
            "the total price of the clothes 4000\n"
          ],
          "name": "stdout"
        }
      ]
    },
    {
      "cell_type": "code",
      "metadata": {
        "id": "Wo64eroYhPQM",
        "outputId": "d1c20f79-13a4-4c81-c783-f05f39a5124e",
        "colab": {
          "base_uri": "https://localhost:8080/"
        }
      },
      "source": [
        "cans = int(input('please enter the quantity of cans you want'))\n",
        "\n",
        "total = (cans//12)*200 + (cans%12)*20 \n",
        "\n",
        "print('the price is' , total)"
      ],
      "execution_count": 6,
      "outputs": [
        {
          "output_type": "stream",
          "text": [
            "please enter the quantity of cans you want4\n",
            "the price is 80\n"
          ],
          "name": "stdout"
        }
      ]
    },
    {
      "cell_type": "code",
      "metadata": {
        "id": "LxGj7hUkitkp",
        "outputId": "8d9f4fe2-26cc-48d6-934f-bab12aa0f165",
        "colab": {
          "base_uri": "https://localhost:8080/"
        }
      },
      "source": [
        "fir = int(input('please enter the first exam score'))\n",
        "sec = int(input('please enter your midterm score'))\n",
        "final = int(input('please enter final score'))\n",
        "total = fir + sec + final \n",
        "print('total score', total)\n",
        "average = total/3 \n",
        "print('average score', average)"
      ],
      "execution_count": 8,
      "outputs": [
        {
          "output_type": "stream",
          "text": [
            "please enter the first exam score20\n",
            "please enter your midterm score40\n",
            "please enter final score60\n",
            "total score 120\n",
            "average score 40.0\n"
          ],
          "name": "stdout"
        }
      ]
    }
  ]
}