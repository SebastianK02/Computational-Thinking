{
  "nbformat": 4,
  "nbformat_minor": 0,
  "metadata": {
    "colab": {
      "name": "Week12.ipynb",
      "provenance": [],
      "authorship_tag": "ABX9TyMuoz6UCerMjbpw/DxHxXgJ",
      "include_colab_link": true
    },
    "kernelspec": {
      "name": "python3",
      "display_name": "Python 3"
    }
  },
  "cells": [
    {
      "cell_type": "markdown",
      "metadata": {
        "id": "view-in-github",
        "colab_type": "text"
      },
      "source": [
        "<a href=\"https://colab.research.google.com/github/SebastianK02/Computational-Thinking/blob/master/Week12.1.ipynb\" target=\"_parent\"><img src=\"https://colab.research.google.com/assets/colab-badge.svg\" alt=\"Open In Colab\"/></a>"
      ]
    },
    {
      "cell_type": "code",
      "metadata": {
        "id": "jv5chgMYm-yq",
        "colab": {
          "base_uri": "https://localhost:8080/"
        },
        "outputId": "a1bdb7cb-d0cf-4d8a-94b8-1300d54b698f"
      },
      "source": [
        "shopping_list = [\"chicken\",\"cheese\",\"steak\",\"hotdog\",\"asparagus\"]\n",
        "print(shopping_list)"
      ],
      "execution_count": null,
      "outputs": [
        {
          "output_type": "stream",
          "text": [
            "['chicken', 'cheese', 'steak', 'hotdog', 'asparagus']\n"
          ],
          "name": "stdout"
        }
      ]
    },
    {
      "cell_type": "code",
      "metadata": {
        "id": "VZpAaSFuoGHL",
        "colab": {
          "base_uri": "https://localhost:8080/"
        },
        "outputId": "e42d1efd-0a11-40a7-fe35-fbca13f34c8a"
      },
      "source": [
        "list5 = [\"chicken\",\"cheese\",\"steak\",\"hotdog\",\"asparagus\"]\n",
        "print(list5[3])"
      ],
      "execution_count": null,
      "outputs": [
        {
          "output_type": "stream",
          "text": [
            "hotdog\n"
          ],
          "name": "stdout"
        }
      ]
    },
    {
      "cell_type": "code",
      "metadata": {
        "id": "x5zHVpyzpRZl",
        "colab": {
          "base_uri": "https://localhost:8080/"
        },
        "outputId": "bd68ed58-69d7-4c2a-ae0f-8841a5ce2c09"
      },
      "source": [
        "print(list5[4])"
      ],
      "execution_count": null,
      "outputs": [
        {
          "output_type": "stream",
          "text": [
            "asparagus\n"
          ],
          "name": "stdout"
        }
      ]
    },
    {
      "cell_type": "code",
      "metadata": {
        "id": "dMTFPH_tpW_M",
        "colab": {
          "base_uri": "https://localhost:8080/",
          "height": 171
        },
        "outputId": "40d8f222-60e9-48a4-8535-0bb0ce4a45c1"
      },
      "source": [
        "print(list5[5])"
      ],
      "execution_count": null,
      "outputs": [
        {
          "output_type": "error",
          "ename": "IndexError",
          "evalue": "ignored",
          "traceback": [
            "\u001b[0;31m---------------------------------------------------------------------------\u001b[0m",
            "\u001b[0;31mIndexError\u001b[0m                                Traceback (most recent call last)",
            "\u001b[0;32m<ipython-input-10-02964be77d7f>\u001b[0m in \u001b[0;36m<module>\u001b[0;34m()\u001b[0m\n\u001b[0;32m----> 1\u001b[0;31m \u001b[0mprint\u001b[0m\u001b[0;34m(\u001b[0m\u001b[0mlist5\u001b[0m\u001b[0;34m[\u001b[0m\u001b[0;36m5\u001b[0m\u001b[0;34m]\u001b[0m\u001b[0;34m)\u001b[0m\u001b[0;34m\u001b[0m\u001b[0;34m\u001b[0m\u001b[0m\n\u001b[0m",
            "\u001b[0;31mIndexError\u001b[0m: list index out of range"
          ]
        }
      ]
    },
    {
      "cell_type": "code",
      "metadata": {
        "colab": {
          "base_uri": "https://localhost:8080/"
        },
        "id": "38FrAEKmpmwQ",
        "outputId": "0087a71f-86c4-4b85-b0a8-8330d2e620e2"
      },
      "source": [
        "list5[3] = \"loboster\"\n",
        "print(list5)"
      ],
      "execution_count": null,
      "outputs": [
        {
          "output_type": "stream",
          "text": [
            "['chicken', 'cheese', 'steak', 'loboster', 'asparagus']\n"
          ],
          "name": "stdout"
        }
      ]
    },
    {
      "cell_type": "code",
      "metadata": {
        "id": "zfaKrir9qMFp",
        "colab": {
          "base_uri": "https://localhost:8080/"
        },
        "outputId": "57571a79-d789-4788-e19f-b725911da6a9"
      },
      "source": [
        "print(list5[1:3])"
      ],
      "execution_count": 18,
      "outputs": [
        {
          "output_type": "stream",
          "text": [
            "['cheese', 'steak']\n"
          ],
          "name": "stdout"
        }
      ]
    }
  ]
}