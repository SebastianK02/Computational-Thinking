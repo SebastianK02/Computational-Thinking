{
  "nbformat": 4,
  "nbformat_minor": 0,
  "metadata": {
    "colab": {
      "name": "Untitled10.ipynb",
      "provenance": [],
      "authorship_tag": "ABX9TyMgH8cYYY40zx6JK3kot/+l",
      "include_colab_link": true
    },
    "kernelspec": {
      "name": "python3",
      "display_name": "Python 3"
    }
  },
  "cells": [
    {
      "cell_type": "markdown",
      "metadata": {
        "id": "view-in-github",
        "colab_type": "text"
      },
      "source": [
        "<a href=\"https://colab.research.google.com/github/SebastianK02/Computational-Thinking/blob/master/Week16.ipynb\" target=\"_parent\"><img src=\"https://colab.research.google.com/assets/colab-badge.svg\" alt=\"Open In Colab\"/></a>"
      ]
    },
    {
      "cell_type": "code",
      "metadata": {
        "colab": {
          "base_uri": "https://localhost:8080/"
        },
        "id": "zrLzWgF5r41d",
        "outputId": "879d9440-acdd-49e3-f486-48086acc7c32"
      },
      "source": [
        "x = int(input(\"side a: \"))\n",
        "y = int(input(\"side b: \"))\n",
        "z = int(input(\"side c: \"))\n",
        "if (x<y+z)and(y<x+z)and(z<x+y):\n",
        "  print(\"its a fucking triangle!!!!\")\n",
        "else: \n",
        "  print(\"no it wont become a triangle bitch\")"
      ],
      "execution_count": 4,
      "outputs": [
        {
          "output_type": "stream",
          "text": [
            "side a: 3465\n",
            "side b: 124\n",
            "side c: 4567\n",
            "no it wont become a triangle bitch\n"
          ],
          "name": "stdout"
        }
      ]
    }
  ]
}