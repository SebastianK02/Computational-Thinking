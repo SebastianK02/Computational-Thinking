{
  "nbformat": 4,
  "nbformat_minor": 0,
  "metadata": {
    "colab": {
      "name": "Untitled7.ipynb",
      "provenance": [],
      "authorship_tag": "ABX9TyNixKhQTI3JaCpoip1wUPOr",
      "include_colab_link": true
    },
    "kernelspec": {
      "name": "python3",
      "display_name": "Python 3"
    }
  },
  "cells": [
    {
      "cell_type": "markdown",
      "metadata": {
        "id": "view-in-github",
        "colab_type": "text"
      },
      "source": [
        "<a href=\"https://colab.research.google.com/github/SebastianK02/Computational-Thinking/blob/master/week10.ipynb\" target=\"_parent\"><img src=\"https://colab.research.google.com/assets/colab-badge.svg\" alt=\"Open In Colab\"/></a>"
      ]
    },
    {
      "cell_type": "code",
      "metadata": {
        "colab": {
          "base_uri": "https://localhost:8080/"
        },
        "id": "NLK3mjvldtEZ",
        "outputId": "3bab0e08-7ea7-4f65-b0f9-3c55ad13d9d8"
      },
      "source": [
        "x = int(input('please enter minutes'))\n",
        "times_hours = (x//60) \n",
        "times_munites = (x%60)\n",
        "print(times_hours, \"hours\", times_munites, \"munites\")"
      ],
      "execution_count": null,
      "outputs": [
        {
          "output_type": "stream",
          "text": [
            "please enter minutes12\n",
            "0 hours 12 munites\n"
          ],
          "name": "stdout"
        }
      ]
    },
    {
      "cell_type": "code",
      "metadata": {
        "colab": {
          "base_uri": "https://localhost:8080/"
        },
        "id": "FXPwS2quh5YY",
        "outputId": "e89600be-fcff-4dc8-b2bb-ac06ede165a0"
      },
      "source": [
        "x = int(input('please enter hours'))\n",
        "y = int(input('please enter munites'))\n",
        "times_total = x*60+y \n",
        "print(\"total times in munites\", times_total)"
      ],
      "execution_count": null,
      "outputs": [
        {
          "output_type": "stream",
          "text": [
            "please enter hours6\n",
            "please enter munites6\n",
            "total times in munites 366\n"
          ],
          "name": "stdout"
        }
      ]
    },
    {
      "cell_type": "code",
      "metadata": {
        "colab": {
          "base_uri": "https://localhost:8080/"
        },
        "id": "Ovjtu4M_i6O0",
        "outputId": "1c6c8fea-f137-41b9-8375-28154a993c8d"
      },
      "source": [
        "x = int(input('please enter munites'))\n",
        "times_hours = (x//60)\n",
        "times_munites = (x%60)\n",
        "times_days = (times_hours//24)\n",
        "print(times_days, \"days\", times_hours, \"hours\", times_munites, \"munites\")"
      ],
      "execution_count": null,
      "outputs": [
        {
          "output_type": "stream",
          "text": [
            "please enter munites1000\n",
            "0 days 16 hours 40 munites\n"
          ],
          "name": "stdout"
        }
      ]
    },
    {
      "cell_type": "code",
      "metadata": {
        "colab": {
          "base_uri": "https://localhost:8080/"
        },
        "id": "BsdlLVUokdYj",
        "outputId": "20ea463d-7e9a-437c-e2b5-0332f14cc069"
      },
      "source": [
        "x = int(input('please enter your number'))\n",
        "group = (x//5.5)+1\n",
        "print(\"group\", group)"
      ],
      "execution_count": 43,
      "outputs": [
        {
          "output_type": "stream",
          "text": [
            "please enter your number18\n",
            "group 4.0\n"
          ],
          "name": "stdout"
        }
      ]
    }
  ]
}