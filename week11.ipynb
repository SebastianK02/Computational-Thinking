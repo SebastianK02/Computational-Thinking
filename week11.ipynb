{
  "nbformat": 4,
  "nbformat_minor": 0,
  "metadata": {
    "colab": {
      "name": "Untitled9.ipynb",
      "provenance": [],
      "authorship_tag": "ABX9TyO6AMSIwwVbDFsSeq7sSpGo",
      "include_colab_link": true
    },
    "kernelspec": {
      "name": "python3",
      "display_name": "Python 3"
    }
  },
  "cells": [
    {
      "cell_type": "markdown",
      "metadata": {
        "id": "view-in-github",
        "colab_type": "text"
      },
      "source": [
        "<a href=\"https://colab.research.google.com/github/SebastianK02/Computational-Thinking/blob/master/week11.ipynb\" target=\"_parent\"><img src=\"https://colab.research.google.com/assets/colab-badge.svg\" alt=\"Open In Colab\"/></a>"
      ]
    },
    {
      "cell_type": "code",
      "metadata": {
        "id": "NEGoYXF20HuK",
        "colab": {
          "base_uri": "https://localhost:8080/"
        },
        "outputId": "a46558e1-59ec-455b-93f8-727354acab98"
      },
      "source": [
        "print(\"wtfisgoingon\")"
      ],
      "execution_count": null,
      "outputs": [
        {
          "output_type": "stream",
          "text": [
            "wtfisgoingon\n"
          ],
          "name": "stdout"
        }
      ]
    },
    {
      "cell_type": "code",
      "metadata": {
        "colab": {
          "base_uri": "https://localhost:8080/"
        },
        "id": "0DmsEjQv0jh9",
        "outputId": "2eb3f28d-73c7-496e-b943-21c5be8086fd"
      },
      "source": [
        "print(\"hi_im_chatting_robot_bish\")\n",
        "hobby = (\"i_like_to_eat_something_delicious\")\n",
        "print(\"my_hobby_is_that\", hobby)"
      ],
      "execution_count": null,
      "outputs": [
        {
          "output_type": "stream",
          "text": [
            "hi_im_chatting_robot_bish\n",
            "my_hobby_is_that i_like_to_eat_something_delicious\n"
          ],
          "name": "stdout"
        }
      ]
    },
    {
      "cell_type": "code",
      "metadata": {
        "colab": {
          "base_uri": "https://localhost:8080/"
        },
        "id": "zvekK1It1Kmd",
        "outputId": "65b0e0c5-489b-4524-a056-d404e7c0735e"
      },
      "source": [
        "year = input(\"請問一下西元2020年是民國幾年？\")\n",
        "print(\"oh_yeah_thanks_a_lot\")"
      ],
      "execution_count": null,
      "outputs": [
        {
          "output_type": "stream",
          "text": [
            "請問一下西元2020年是民國幾年？109\n",
            "oh_yeah_thanks_a_lot\n"
          ],
          "name": "stdout"
        }
      ]
    },
    {
      "cell_type": "code",
      "metadata": {
        "colab": {
          "base_uri": "https://localhost:8080/"
        },
        "id": "znamWKyb1eoX",
        "outputId": "17080ab1-3ca0-4ece-8903-c873a26d0278"
      },
      "source": [
        "myage = int(input(\"what_about_guessing_my_age?\"))\n",
        "print(\"woo_you_really_smart_tho_bruh_im_really\", myage)"
      ],
      "execution_count": null,
      "outputs": [
        {
          "output_type": "stream",
          "text": [
            "what_about_guessing_my_age?18\n",
            "woo_you_really_smart_tho_bruh_im_really 18\n"
          ],
          "name": "stdout"
        }
      ]
    },
    {
      "cell_type": "code",
      "metadata": {
        "colab": {
          "base_uri": "https://localhost:8080/"
        },
        "id": "lF5lOsJY2Xp6",
        "outputId": "88b568f3-4574-4523-f1c4-cf8f1d9e30ab"
      },
      "source": [
        "nyears = 100 - myage\n",
        "print(\"ill_be_100_years_old_after\", nyears, \"years_tho\")\n",
        "#i kinda want to poop tho but i dont want to pop at school it kinda sucks and its kinda awkward. "
      ],
      "execution_count": null,
      "outputs": [
        {
          "output_type": "stream",
          "text": [
            "ill_be_100_years_old_after 82 years_tho\n"
          ],
          "name": "stdout"
        }
      ]
    }
  ]
}