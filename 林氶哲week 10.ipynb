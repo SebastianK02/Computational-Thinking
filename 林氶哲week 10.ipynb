{
  "nbformat": 4,
  "nbformat_minor": 0,
  "metadata": {
    "colab": {
      "name": "Untitled6.ipynb",
      "provenance": [],
      "authorship_tag": "ABX9TyMtnYBlfp/7q9mI4igwe/rF",
      "include_colab_link": true
    },
    "kernelspec": {
      "name": "python3",
      "display_name": "Python 3"
    }
  },
  "cells": [
    {
      "cell_type": "markdown",
      "metadata": {
        "id": "view-in-github",
        "colab_type": "text"
      },
      "source": [
        "<a href=\"https://colab.research.google.com/github/SebastianK02/Computational-Thinking/blob/master/%E6%9E%97%E6%B0%B6%E5%93%B2week%2010.ipynb\" target=\"_parent\"><img src=\"https://colab.research.google.com/assets/colab-badge.svg\" alt=\"Open In Colab\"/></a>"
      ]
    },
    {
      "cell_type": "code",
      "metadata": {
        "id": "0b23Cp7nQloB",
        "colab": {
          "base_uri": "https://localhost:8080/"
        },
        "outputId": "58dc1951-64e8-4f1c-c1eb-8e4504716941"
      },
      "source": [
        "movie_title = \"money ball\"\n",
        "release_year = \"2011\"\n",
        "director = \"Steven Miller\"\n",
        "star1 = \"Brad Pitt\"\n",
        "star2 = \"Robin Wright\"\n",
        "star3 = \"Jonah Hill\"\n",
        "Reviews = \"432 users\"\n",
        "nominated = \"6 Oscars another 30 wins and 75 nominations\"\n",
        "movie_more_like_this = \"The Big Short\"\n",
        "print(\"Movie title:\", movie_title)\n",
        "print(\"relrase_year:\", release_year)\n",
        "print(\"Director:\", director)\n",
        "print(\"star1:\", star1)\n",
        "print(\"star2:\", star2)\n",
        "print(\"star3:\", star3)\n",
        "print(\"Reviews:\", Reviews)\n",
        "print(\"Nominated:\", nominated)\n",
        "print(\"movie like this:\", movie_more_like_this)"
      ],
      "execution_count": 4,
      "outputs": [
        {
          "output_type": "stream",
          "text": [
            "Movie title: money ball\n",
            "relrase_year: 2011\n",
            "Director: Steven Miller\n",
            "star1: Brad Pitt\n",
            "star2: Robin Wright\n",
            "star3: Jonah Hill\n",
            "Reviews: 432 users\n",
            "Nominated: 6 Oscars another 30 wins and 75 nominations\n",
            "movie like this: The Big Short\n"
          ],
          "name": "stdout"
        }
      ]
    }
  ]
}